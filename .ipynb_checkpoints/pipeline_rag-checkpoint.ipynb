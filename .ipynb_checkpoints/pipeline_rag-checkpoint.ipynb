{
 "cells": [
  {
   "cell_type": "code",
   "execution_count": 7,
   "id": "965060bc-f1a8-46cd-955d-7b6af0c62eb9",
   "metadata": {},
   "outputs": [
    {
     "name": "stdout",
     "output_type": "stream",
     "text": [
      "/Users/elkihale.n-abualqumboz.mk/opt/anaconda3/bin/python\n"
     ]
    }
   ],
   "source": [
    "!which python"
   ]
  },
  {
   "cell_type": "code",
   "execution_count": 9,
   "id": "a62014d1-6d04-41e5-9f96-c025f7f61670",
   "metadata": {},
   "outputs": [],
   "source": [
    "# !pip install -r requirements.txt"
   ]
  },
  {
   "cell_type": "code",
   "execution_count": 23,
   "id": "78533ddc-a531-4c67-ab9b-b55c36206c2a",
   "metadata": {},
   "outputs": [],
   "source": [
    "# !pwd\n",
    "# !ls -la\n"
   ]
  },
  {
   "cell_type": "code",
   "execution_count": 24,
   "id": "6463b261-dacd-42e3-b7b3-063d5e8f8c39",
   "metadata": {
    "scrolled": true
   },
   "outputs": [],
   "source": [
    "# !python -V\n",
    "# !pip show langchain langchain-community langchain-mistralai pydantic faiss-cpu\n"
   ]
  },
  {
   "cell_type": "code",
   "execution_count": 1,
   "id": "1f83086c-f6b3-4cf3-845d-3f95568c350c",
   "metadata": {},
   "outputs": [],
   "source": [
    "from dotenv import load_dotenv, find_dotenv\n",
    "load_dotenv(find_dotenv(usecwd=True))\n",
    "\n",
    "import os\n",
    "assert os.environ.get(\"MISTRAL_API_KEY\")\n"
   ]
  },
  {
   "cell_type": "code",
   "execution_count": 8,
   "id": "fd02fd4c-026f-4cfc-afb4-8b7b5791254a",
   "metadata": {},
   "outputs": [
    {
     "name": "stdout",
     "output_type": "stream",
     "text": [
      "\n",
      "Type your questions (Ctrl+C to quit)\n",
      "\n",
      "(Model order: mistral-medium-latest, mistral-large-latest, mistral-small-latest)\n",
      "\n",
      "You: \n",
      "Bot: Voici quelques événements dédiés aux femmes ou abordant des thèmes liés aux femmes :\n",
      "\n",
      "1. **[Mews Partners] Découverte du conseil en industrie et importance de la confiance en soi**\n",
      "   - **Date** : 19 novembre 2024, 08:00–11:45\n",
      "   - **Lieu** : Paris 75008\n",
      "   - **Public** : Jeunes femmes (confiance en soi et développement professionnel).\n",
      "   - [Lien](https://openagenda.com/semaine-industrie-2024/events/mews-partners-decouverte-du-conseil-en-industrie-et-importance-de-la-confiance-en-soi-5420780)\n",
      "\n",
      "2. **Visite et atelier d’écriture « Femmes fortes d'hier et d'aujourd'hui »**\n",
      "   - **Date** : 17 mai 2025, 14:30–15:15\n",
      "   - **Lieu** : Paris 75003 (Carnavalet)\n",
      "   - **Thème** : Réflexion sur la force et les combats des femmes à travers l’histoire.\n",
      "   - [Lien](https://openagenda.com/culture/events/visite-et-atelier-decriture-femmes-fortes-dhier-et-daujourdhui)\n",
      "\n",
      "3. **Village de l'industrie – \"Les filles et les sciences\"**\n",
      "   - **Dates** : 26–29 novembre 2024 (activité spécifique le **28 novembre**)\n",
      "   - **Lieu** : Paris 75019\n",
      "   - **Thème** : Jeux et ateliers sur l’égalité femme-homme et les métiers scientifiques.\n",
      "   - [Lien (exemple)](https://openagenda.com/semaine-industrie-2024/events/village-de-lindustrie-4223971)\n",
      "\n",
      "4. **Patrimoine et matrimoine : les deux faces de l'Histoire – Les femmes de la Cité Falguière**\n",
      "   - **Date** : 20 septembre 2025, 12:00–17:00\n",
      "   - **Lieu** : Paris 75015\n",
      "   - **Thème** : Reconnaissance des contributions des femmes dans l’histoire.\n",
      "   - [Lien](https://openagenda.com/jep-2025-ile-de-france/events/patrimoine-et-matrimoine-les-deux-faces-de-lhistoire-les-femmes-de-la-cite-falguiere)\n",
      "\n",
      "5. **Visite thématique « Femmes d'engagement »**\n",
      "   - **Date** : 22 septembre 2024, 13:00–14:30\n",
      "   - **Lieu** : Paris 75004 (Mémorial des martyrs de la Déportation)\n",
      "   - **Thème** : Hommage aux femmes résistantes et déportées.\n",
      "   - [Lien](https://openagenda.com/jep-2024-ile-de-france/events/visite-thematique-femmes-dengagement)\n",
      "\n",
      "6. **Les contes aux fenêtres – Spectacle \"Les femmes de mon enfance\"**\n",
      "   - **Date** : 23 juillet 2025, 20:30\n",
      "   - **Lieu** : Paris 75017\n",
      "   - **Thème** : Contes et récits sur les femmes, suivi d’une dégustation.\n",
      "   - [Lien](https://openagenda.com/eteculturel-2025-ile-de-france/events/les-contes-aux-fenetres-9997243)\n",
      "\n",
      "You: "
     ]
    }
   ],
   "source": [
    "!printf \"can you recommend events for women ?\\n\" | ./.venv/bin/python -m src.rag.rag_pipeline --index data/index/faiss --k 12  2>/dev/null"
   ]
  },
  {
   "cell_type": "code",
   "execution_count": 10,
   "id": "c363616e-6a3e-4de4-b59a-64abac724ca2",
   "metadata": {},
   "outputs": [
    {
     "name": "stdout",
     "output_type": "stream",
     "text": [
      "\n",
      "Type your questions (Ctrl+C to quit)\n",
      "\n",
      "(Model order: mistral-medium-latest, mistral-large-latest, mistral-small-latest)\n",
      "\n",
      "You: \n",
      "Bot: 以下是一些音乐活动：\n",
      "\n",
      "1. **Fête de la musique à la Maison du Japon**\n",
      "   - 地点：Maison du Japon, Paris 75014\n",
      "   - 时间：2025年6月21日 14:00-16:00\n",
      "   - 内容：古典音乐表演\n",
      "\n",
      "2. **Concert et animations d'églises locales, Paris 13**\n",
      "   - 地点：Masséna 和 Passage National 教堂, Paris 75013\n",
      "   - 时间：2025年6月21日 16:30-18:30\n",
      "   - 内容：法语和中文赞美诗歌、器乐表演\n",
      "\n",
      "3. **Toute la rue chante avec des musiciens en live**\n",
      "   - 地点：Paris 75012\n",
      "   - 时间：2025年6月21日 19:00-21:59\n",
      "   - 内容：街头集体歌唱活动\n",
      "\n",
      "4. **Vibrations d’été à l'hôpital des 15-20**\n",
      "   - 地点：Hôpital des 15-20, Paris 75012\n",
      "   - 时间：2025年6月21日 16:00-21:00\n",
      "   - 内容：医院内音乐会\n",
      "\n",
      "5. **Concert : Ensemble intercontemporain**\n",
      "   - 地点：Paris 75003\n",
      "   - 时间：2025年7月10日 17:00-18:30\n",
      "   - 内容：现代音乐表演\n",
      "\n",
      "6. **Mélodies franco-japonaises à la Maison du Japon**\n",
      "   - 地点：Maison du Japon, Paris 75014\n",
      "   - 时间：2025年6月21日 13:00-16:00\n",
      "   - 内容：法日混合音乐表演\n",
      "\n",
      "7. **THE BIG TAKEOVER**\n",
      "   - 地点：Paris 75011\n",
      "   - 时间：2025年6月21日 14:00-21:00\n",
      "   - 内容：电子音乐DJ现场\n",
      "\n",
      "8. **Earthquake**\n",
      "   - 地点：Paris 75004\n",
      "   - 时间：2025年6月21日 13:00-18:00\n",
      "   - 内容：街头新兴艺术家表演\n",
      "\n",
      "9. **Sainte Marthe en Musique**\n",
      "   - 地点：Place Sainte-Marthe, Paris 75010\n",
      "   - 时间：2025年6月21日 16:00-21:59\n",
      "   - 内容：声乐、舞蹈、DJ表演\n",
      "\n",
      "10. **Un après-midi musical au sein des collections de la Cité de l'architecture**\n",
      "    - 地点：Cité de l'architecture, Paris 75116\n",
      "    - 时间：2025年6月21日 13:30-16:30\n",
      "    - 内容：古典音乐表演\n",
      "\n",
      "11. **Nmiyati Miyako-jima - Bienvenue à Miyako-jima**\n",
      "    - 地点：Paris 75015\n",
      "    - 时间：2025年6月21日 13:00-15:00\n",
      "    - 内容：冲绳传统音乐和舞蹈表演\n",
      "\n",
      "You: "
     ]
    }
   ],
   "source": [
    "!printf \"有哪些音乐活动？\\n\" | ./.venv/bin/python -m src.rag.rag_pipeline --index data/index/faiss --k 12  2>/dev/null"
   ]
  },
  {
   "cell_type": "code",
   "execution_count": 11,
   "id": "daea7d42-6498-496d-9049-a3dc77e166b1",
   "metadata": {},
   "outputs": [
    {
     "name": "stdout",
     "output_type": "stream",
     "text": [
      "\n",
      "Type your questions (Ctrl+C to quit)\n",
      "\n",
      "(Model order: mistral-medium-latest, mistral-large-latest, mistral-small-latest)\n",
      "\n",
      "You: \n",
      "Bot: 以下の子供向けイベントがあります：\n",
      "\n",
      "1. **Racontines pour les 0-3 ans**\n",
      "   日付：2024年9月28日\n",
      "   時間：8:00 - 8:30\n",
      "   会場：Bibliothèque Gutenberg (パリ15区)\n",
      "\n",
      "2. **Atelier mythologie japonaise avec la revue Baïka**\n",
      "   日付：2024年9月28日\n",
      "   時間：13:00 - 14:30\n",
      "   会場：Bibliothèque Gutenberg (パリ15区)\n",
      "\n",
      "3. **Visites commentées (家族向け活動)**\n",
      "   日付：2024年9月21日・22日\n",
      "   時間：8:00 - 15:00\n",
      "   会場：パリ8区\n",
      "\n",
      "4. **Découvrir la Cour des comptes en s’amusant ! (家族向け)**\n",
      "   日付：2025年9月20日\n",
      "   時間：8:30 - 15:30\n",
      "   会場：パリ1区\n",
      "\n",
      "5. **Spectacles contés : la Cour des Contes à la Cour des comptes (家族向け)**\n",
      "   日付：2025年9月20日\n",
      "   時間：10:00 - 10:30\n",
      "   会場：パリ1区\n",
      "\n",
      "6. **Cours de cuisine en Ehpad (子供と高齢者向け)**\n",
      "   日付：2025年5月1日\n",
      "   時間：9:00 - 13:00\n",
      "   会場：パリ2区\n",
      "\n",
      "You: "
     ]
    }
   ],
   "source": [
    "!printf \"子供向けのイベントはあります？\\n\" | ./.venv/bin/python -m src.rag.rag_pipeline --index data/index/faiss --k 12  2>/dev/null"
   ]
  },
  {
   "cell_type": "code",
   "execution_count": null,
   "id": "8da16842-9c5f-4b0d-a073-ef76bb00f89f",
   "metadata": {},
   "outputs": [],
   "source": []
  }
 ],
 "metadata": {
  "kernelspec": {
   "display_name": "Python 3 (ipykernel)",
   "language": "python",
   "name": "python3"
  },
  "language_info": {
   "codemirror_mode": {
    "name": "ipython",
    "version": 3
   },
   "file_extension": ".py",
   "mimetype": "text/x-python",
   "name": "python",
   "nbconvert_exporter": "python",
   "pygments_lexer": "ipython3",
   "version": "3.9.12"
  }
 },
 "nbformat": 4,
 "nbformat_minor": 5
}
